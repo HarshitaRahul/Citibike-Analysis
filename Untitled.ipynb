{
 "cells": [
  {
   "cell_type": "code",
   "execution_count": 20,
   "id": "4d84d3bb-3781-46f3-9224-a32ec876b4da",
   "metadata": {},
   "outputs": [],
   "source": [
    "# import Dependencies\n",
    "import os\n",
    "import pandas as pd"
   ]
  },
  {
   "cell_type": "code",
   "execution_count": 21,
   "id": "5827f2c3-51f7-45fe-8018-cca78ee5e621",
   "metadata": {},
   "outputs": [],
   "source": [
    "# Store filepath in a variable\n",
    "file_one = os.path.join('Resources', 'JC-202001-citibike-tripdata.csv')\n",
    "file_two = os.path.join('Resources', 'JC-202002-citibike-tripdata.csv')\n",
    "file_three = os.path.join('Resources', 'JC-202003-citibike-tripdata.csv')\n",
    "file_four = os.path.join('Resources', 'JC-202004-citibike-tripdata.csv')\n",
    "file_five = os.path.join('Resources', 'JC-202005-citibike-tripdata.csv')\n",
    "file_six = os.path.join('Resources', 'JC-202006-citibike-tripdata.csv')\n",
    "file_seven = os.path.join('Resources', 'JC-202007-citibike-tripdata.csv')\n",
    "file_eight = os.path.join('Resources', 'JC-202008-citibike-tripdata.csv')\n",
    "file_nine = os.path.join('Resources', 'JC-202009-citibike-tripdata.csv')\n",
    "file_ten = os.path.join('Resources', 'JC-202010-citibike-tripdata.csv')\n",
    "file_eleven = os.path.join('Resources', 'JC-202011-citibike-tripdata.csv')\n",
    "file_twelve = os.path.join('Resources', 'JC-202012-citibike-tripdata.csv')\n",
    "\n"
   ]
  },
  {
   "cell_type": "code",
   "execution_count": 22,
   "id": "e146e036-fe4b-4f16-a8eb-f6346e33d310",
   "metadata": {},
   "outputs": [],
   "source": [
    "file_one_df = pd.read_csv(file_one)\n",
    "file_two_df = pd.read_csv(file_two)\n",
    "file_three_df = pd.read_csv(file_three)\n",
    "file_four_df = pd.read_csv(file_four)\n",
    "file_five_df = pd.read_csv(file_five)\n",
    "file_six_df = pd.read_csv(file_six)\n",
    "file_seven_df = pd.read_csv(file_seven)\n",
    "file_eight_df = pd.read_csv(file_eight)\n",
    "file_nine_df = pd.read_csv(file_nine)\n",
    "file_ten_df = pd.read_csv(file_ten)\n",
    "file_eleven_df = pd.read_csv(file_eleven)\n",
    "file_twelve_df = pd.read_csv(file_twelve)\n"
   ]
  },
  {
   "cell_type": "code",
   "execution_count": 23,
   "id": "7632f21d-2964-4358-ad3f-3c0e2baca5fc",
   "metadata": {},
   "outputs": [
    {
     "data": {
      "text/plain": [
       "Index(['tripduration', 'starttime', 'stoptime', 'start station id',\n",
       "       'start station name', 'start station latitude',\n",
       "       'start station longitude', 'end station id', 'end station name',\n",
       "       'end station latitude', 'end station longitude', 'bikeid', 'usertype',\n",
       "       'birth year', 'gender'],\n",
       "      dtype='object')"
      ]
     },
     "execution_count": 23,
     "metadata": {},
     "output_type": "execute_result"
    }
   ],
   "source": [
    "file_four_df.columns"
   ]
  },
  {
   "cell_type": "code",
   "execution_count": 24,
   "id": "f126ecc3-3f2c-43a6-a4f9-bcf35a144831",
   "metadata": {},
   "outputs": [],
   "source": [
    "frames = [file_one_df, file_two_df, file_three_df, file_four_df, file_five_df, file_six_df, file_seven_df, file_eight_df, file_nine_df, file_ten_df, file_eleven_df, file_twelve_df]\n",
    "df = pd.concat(frames)\n",
    "df = df.reset_index()"
   ]
  },
  {
   "cell_type": "code",
   "execution_count": 29,
   "id": "758c9876-1905-43f6-9d58-f2d0b64057fb",
   "metadata": {},
   "outputs": [],
   "source": [
    "# df = df.rename(columns={'index': 'rideid'})\n",
    "df.to_csv('citibike.csv')"
   ]
  },
  {
   "cell_type": "code",
   "execution_count": 32,
   "id": "43cdc96d-3743-499c-bbf2-dc2227808b9f",
   "metadata": {},
   "outputs": [],
   "source": [
    "citibike_df = pd.read_csv(\"Resources/citibike.csv\",index_col = 0)"
   ]
  },
  {
   "cell_type": "code",
   "execution_count": 33,
   "id": "751bac9e-eb07-4917-afd3-6dcb902e7677",
   "metadata": {},
   "outputs": [
    {
     "data": {
      "text/plain": [
       "index                      336802\n",
       "tripduration               336802\n",
       "starttime                  336802\n",
       "stoptime                   336802\n",
       "start station id           336802\n",
       "start station name         336802\n",
       "start station latitude     336802\n",
       "start station longitude    336802\n",
       "end station id             336802\n",
       "end station name           336802\n",
       "end station latitude       336802\n",
       "end station longitude      336802\n",
       "bikeid                     336802\n",
       "usertype                   336802\n",
       "birth year                 336802\n",
       "gender                     336802\n",
       "dtype: int64"
      ]
     },
     "execution_count": 33,
     "metadata": {},
     "output_type": "execute_result"
    }
   ],
   "source": [
    "citibike_df.count()"
   ]
  },
  {
   "cell_type": "code",
   "execution_count": null,
   "id": "e49bf236-987e-4855-bfe9-47c210c40b08",
   "metadata": {},
   "outputs": [],
   "source": []
  },
  {
   "cell_type": "code",
   "execution_count": null,
   "id": "ef8cbd16-6261-44e2-a9ab-cb43d472039b",
   "metadata": {},
   "outputs": [],
   "source": []
  },
  {
   "cell_type": "code",
   "execution_count": null,
   "id": "9bb4f3ab-5fac-4ca6-9518-ab9fe0827427",
   "metadata": {},
   "outputs": [],
   "source": []
  }
 ],
 "metadata": {
  "kernelspec": {
   "display_name": "Python 3",
   "language": "python",
   "name": "python3"
  },
  "language_info": {
   "codemirror_mode": {
    "name": "ipython",
    "version": 3
   },
   "file_extension": ".py",
   "mimetype": "text/x-python",
   "name": "python",
   "nbconvert_exporter": "python",
   "pygments_lexer": "ipython3",
   "version": "3.8.8"
  }
 },
 "nbformat": 4,
 "nbformat_minor": 5
}
